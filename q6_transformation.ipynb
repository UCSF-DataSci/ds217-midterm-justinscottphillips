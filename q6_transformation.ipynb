{
 "cells": [
  {
   "cell_type": "markdown",
   "metadata": {},
   "source": [
    "# Assignment 5, Question 6: Data Transformation\n",
    "\n",
    "**Points: 20**\n",
    "\n",
    "Transform and engineer features from the clinical trial dataset."
   ]
  },
  {
   "cell_type": "markdown",
   "metadata": {},
   "source": [
    "## Setup"
   ]
  },
  {
   "cell_type": "code",
   "execution_count": 39,
   "metadata": {},
   "outputs": [
    {
     "name": "stdout",
     "output_type": "stream",
     "text": [
      "Loaded 10000 patients\n"
     ]
    }
   ],
   "source": [
    "import pandas as pd\n",
    "import numpy as np\n",
    "import matplotlib.pyplot as plt\n",
    "\n",
    "# Import utilities\n",
    "from q3_data_utils import load_data, clean_data, transform_types, create_bins, fill_missing\n",
    "\n",
    "df = load_data('output/q5_cleaned_data.csv')\n",
    "print(f\"Loaded {len(df)} patients\")\n",
    "\n",
    "# Prewritten visualization functions for transformation analysis\n",
    "def plot_distribution(series, title, figsize=(10, 6)):\n",
    "    \"\"\"\n",
    "    Create a histogram of a numeric series.\n",
    "    \n",
    "    Args:\n",
    "        series: pandas Series with numeric data\n",
    "        title: Chart title\n",
    "        figsize: Figure size tuple\n",
    "    \"\"\"\n",
    "    plt.figure(figsize=figsize)\n",
    "    series.hist(bins=30)\n",
    "    plt.title(title)\n",
    "    plt.xlabel('Value')\n",
    "    plt.ylabel('Frequency')\n",
    "    plt.tight_layout()\n",
    "    plt.show()\n",
    "\n",
    "def plot_value_counts(series, title, figsize=(10, 6)):\n",
    "    \"\"\"\n",
    "    Create a bar chart of value counts.\n",
    "    \n",
    "    Args:\n",
    "        series: pandas Series with value counts\n",
    "        title: Chart title\n",
    "        figsize: Figure size tuple\n",
    "    \"\"\"\n",
    "    plt.figure(figsize=figsize)\n",
    "    series.plot(kind='bar')\n",
    "    plt.title(title)\n",
    "    plt.xticks(rotation=45)\n",
    "    plt.tight_layout()\n",
    "    plt.show()"
   ]
  },
  {
   "cell_type": "markdown",
   "metadata": {},
   "source": [
    "## Part 1: Type Conversions (5 points)\n",
    "\n",
    "1. Convert 'enrollment_date' to datetime using the `transform_types()` utility\n",
    "2. Convert categorical columns ('site', 'intervention_group', 'sex') to category dtype\n",
    "3. Ensure all numeric columns are proper numeric types\n",
    "4. Display the updated dtypes"
   ]
  },
  {
   "cell_type": "code",
   "execution_count": 40,
   "metadata": {},
   "outputs": [
    {
     "name": "stdout",
     "output_type": "stream",
     "text": [
      "patient_id                    object\n",
      "age                          float64\n",
      "sex                         category\n",
      "bmi                          float64\n",
      "enrollment_date       datetime64[ns]\n",
      "systolic_bp                  float64\n",
      "diastolic_bp                 float64\n",
      "cholesterol_total            float64\n",
      "cholesterol_hdl              float64\n",
      "cholesterol_ldl              float64\n",
      "glucose_fasting              float64\n",
      "site                        category\n",
      "intervention_group          category\n",
      "follow_up_months               int64\n",
      "adverse_events                 int64\n",
      "outcome_cvd                   object\n",
      "adherence_pct                float64\n",
      "dropout                       object\n",
      "dtype: object\n"
     ]
    }
   ],
   "source": [
    "# Type conversions\n",
    "# 1. Use transform_types() to convert enrollment_date to datetime\n",
    "# 2. Convert categorical columns ('site', 'intervention_group', 'sex') to category dtype\n",
    "# 3. Ensure all numeric columns are proper numeric types\n",
    "df = transform_types(df, {'enrollment_date': 'datetime', 'site': 'category', 'intervention_group': 'category', 'sex': 'category'})\n",
    "\n",
    "# 4. Display the updated dtypes using df.dtypes\n",
    "print(df.dtypes)\n"
   ]
  },
  {
   "cell_type": "markdown",
   "metadata": {},
   "source": [
    "## Part 2: Feature Engineering (8 points)\n",
    "\n",
    "Create these new calculated columns:\n",
    "\n",
    "1. `cholesterol_ratio` = cholesterol_ldl / cholesterol_hdl\n",
    "2. `bp_category` = categorize systolic BP:\n",
    "   - 'Normal': < 120\n",
    "   - 'Elevated': 120-129\n",
    "   - 'High': >= 130\n",
    "3. `age_group` using `create_bins()` utility:\n",
    "   - Bins: [0, 40, 55, 70, 100]\n",
    "   - Labels: ['<40', '40-54', '55-69', '70+']\n",
    "4. `bmi_category` using standard BMI categories:\n",
    "   - Underweight: <18.5\n",
    "   - Normal: 18.5-24.9\n",
    "   - Overweight: 25-29.9\n",
    "   - Obese: >=30"
   ]
  },
  {
   "cell_type": "code",
   "execution_count": 42,
   "metadata": {},
   "outputs": [
    {
     "name": "stdout",
     "output_type": "stream",
     "text": [
      "   cholesterol_ldl  cholesterol_hdl  cholesterol_ratio\n",
      "0             41.0             55.0           0.745455\n",
      "1            107.0             58.0           1.844828\n",
      "2             82.0             56.0           1.464286\n",
      "3            104.0             56.0           1.857143\n",
      "4             75.0             78.0           0.961538\n",
      "   systolic_bp bp_category\n",
      "0        123.0    Elevated\n",
      "1        139.0        High\n",
      "2        123.0    Elevated\n",
      "3        116.0      Normal\n",
      "4         97.0      Normal\n",
      "    age age_group\n",
      "0  80.0       70+\n",
      "1  80.0       70+\n",
      "2  82.0       70+\n",
      "3  95.0       70+\n",
      "4  95.0       70+\n",
      "    bmi bmi_category\n",
      "0  29.3   Overweight\n",
      "1  26.2   Overweight\n",
      "2  26.2   Overweight\n",
      "3  25.4   Overweight\n",
      "4  26.2   Overweight\n"
     ]
    }
   ],
   "source": [
    "# `cholesterol_ratio`\n",
    "df['cholesterol_ratio'] = df['cholesterol_ldl'] / df['cholesterol_hdl']\n",
    "print(df[['cholesterol_ldl', 'cholesterol_hdl', 'cholesterol_ratio']].head())\n",
    "\n",
    "# `bp_category`\n",
    "# Define bins and labels\n",
    "bins = [0, 120, 130, np.inf]  # 0-119, 120-129, 130+\n",
    "labels = ['Normal', 'Elevated', 'High']\n",
    "\n",
    "df = create_bins(df, column='systolic_bp', bins=bins, labels=labels, new_column='bp_category')\n",
    "print(df[['systolic_bp', 'bp_category']].head())\n",
    "\n",
    "# `age_group`\n",
    "bins = [0, 40, 55, 70, np.inf]\n",
    "labels = ['<40', '40-54', '55-69', '70+']\n",
    "\n",
    "df = create_bins(df, column='age', bins=bins, labels=labels, new_column='age_group')\n",
    "print(df[['age', 'age_group']].head())\n",
    "\n",
    "# `bmi_category`\n",
    "bins = [0, 18.5, 25, 30, np.inf]\n",
    "labels = ['Underweight', 'Normal', 'Overweight', 'Obese']\n",
    "\n",
    "df = create_bins(df, column='bmi', bins=bins, labels=labels, new_column='bmi_category')\n",
    "print(df[['bmi', 'bmi_category']].head())"
   ]
  },
  {
   "cell_type": "code",
   "execution_count": null,
   "metadata": {},
   "outputs": [],
   "source": [
    "# TODO: Categorize blood pressure\n"
   ]
  },
  {
   "cell_type": "markdown",
   "metadata": {},
   "source": [
    "**Note:** The `create_bins()` function has an optional `new_column` parameter. If you don't specify it, the new column will be named `{original_column}_binned`. You can use `new_column='age_group'` to give it a custom name.\n"
   ]
  },
  {
   "cell_type": "code",
   "execution_count": null,
   "metadata": {},
   "outputs": [],
   "source": [
    "# TODO: Create age groups\n"
   ]
  },
  {
   "cell_type": "code",
   "execution_count": null,
   "metadata": {},
   "outputs": [],
   "source": [
    "# TODO: Create BMI categories\n"
   ]
  },
  {
   "cell_type": "markdown",
   "metadata": {},
   "source": [
    "## Part 3: String Cleaning (2 points)\n",
    "\n",
    "If there are any string columns that need cleaning:\n",
    "1. Convert to lowercase\n",
    "2. Strip whitespace\n",
    "3. Replace any placeholder values"
   ]
  },
  {
   "cell_type": "code",
   "execution_count": null,
   "metadata": {},
   "outputs": [],
   "source": [
    "# TODO: String cleaning\n"
   ]
  },
  {
   "cell_type": "markdown",
   "metadata": {},
   "source": [
    "## Part 4: One-Hot Encoding (5 points)\n",
    "\n",
    "Create dummy variables for categorical columns:\n",
    "1. One-hot encode 'intervention_group' using `pd.get_dummies()`\n",
    "2. One-hot encode 'site'\n",
    "3. Drop the original categorical columns\n",
    "4. Show the new shape and column names"
   ]
  },
  {
   "cell_type": "code",
   "execution_count": null,
   "metadata": {},
   "outputs": [],
   "source": [
    "# TODO: One-hot encoding\n"
   ]
  },
  {
   "cell_type": "markdown",
   "metadata": {},
   "source": [
    "## Part 5: Save Transformed Data\n",
    "\n",
    "Save the fully transformed dataset to `output/q6_transformed_data.csv`"
   ]
  },
  {
   "cell_type": "code",
   "execution_count": null,
   "metadata": {},
   "outputs": [],
   "source": [
    "# TODO: Save transformed data\n",
    "# df_transformed.to_csv('output/q6_transformed_data.csv', index=False)\n"
   ]
  }
 ],
 "metadata": {
  "kernelspec": {
   "display_name": ".venv (3.13.7)",
   "language": "python",
   "name": "python3"
  },
  "language_info": {
   "codemirror_mode": {
    "name": "ipython",
    "version": 3
   },
   "file_extension": ".py",
   "mimetype": "text/x-python",
   "name": "python",
   "nbconvert_exporter": "python",
   "pygments_lexer": "ipython3",
   "version": "3.13.7"
  }
 },
 "nbformat": 4,
 "nbformat_minor": 2
}
