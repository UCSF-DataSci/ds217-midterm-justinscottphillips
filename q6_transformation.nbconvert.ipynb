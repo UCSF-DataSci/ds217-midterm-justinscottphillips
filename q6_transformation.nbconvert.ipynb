{
 "cells": [
  {
   "cell_type": "markdown",
   "metadata": {},
   "source": [
    "# Assignment 5, Question 6: Data Transformation\n",
    "\n",
    "**Points: 20**\n",
    "\n",
    "Transform and engineer features from the clinical trial dataset."
   ]
  },
  {
   "cell_type": "markdown",
   "metadata": {},
   "source": [
    "## Setup"
   ]
  },
  {
   "cell_type": "code",
   "execution_count": 1,
   "metadata": {
    "execution": {
     "iopub.execute_input": "2025-10-29T15:48:11.772829Z",
     "iopub.status.busy": "2025-10-29T15:48:11.772383Z",
     "iopub.status.idle": "2025-10-29T15:48:13.050126Z",
     "shell.execute_reply": "2025-10-29T15:48:13.048526Z"
    }
   },
   "outputs": [
    {
     "name": "stdout",
     "output_type": "stream",
     "text": [
      "Loaded 10000 patients\n"
     ]
    }
   ],
   "source": [
    "import pandas as pd\n",
    "import numpy as np\n",
    "import matplotlib.pyplot as plt\n",
    "\n",
    "# Import utilities\n",
    "from q3_data_utils import load_data, clean_data, transform_types, create_bins, fill_missing\n",
    "\n",
    "df = load_data('output/q5_cleaned_data.csv')\n",
    "print(f\"Loaded {len(df)} patients\")\n",
    "\n",
    "# Prewritten visualization functions for transformation analysis\n",
    "def plot_distribution(series, title, figsize=(10, 6)):\n",
    "    \"\"\"\n",
    "    Create a histogram of a numeric series.\n",
    "    \n",
    "    Args:\n",
    "        series: pandas Series with numeric data\n",
    "        title: Chart title\n",
    "        figsize: Figure size tuple\n",
    "    \"\"\"\n",
    "    plt.figure(figsize=figsize)\n",
    "    series.hist(bins=30)\n",
    "    plt.title(title)\n",
    "    plt.xlabel('Value')\n",
    "    plt.ylabel('Frequency')\n",
    "    plt.tight_layout()\n",
    "    plt.show()\n",
    "\n",
    "def plot_value_counts(series, title, figsize=(10, 6)):\n",
    "    \"\"\"\n",
    "    Create a bar chart of value counts.\n",
    "    \n",
    "    Args:\n",
    "        series: pandas Series with value counts\n",
    "        title: Chart title\n",
    "        figsize: Figure size tuple\n",
    "    \"\"\"\n",
    "    plt.figure(figsize=figsize)\n",
    "    series.plot(kind='bar')\n",
    "    plt.title(title)\n",
    "    plt.xticks(rotation=45)\n",
    "    plt.tight_layout()\n",
    "    plt.show()"
   ]
  },
  {
   "cell_type": "markdown",
   "metadata": {},
   "source": [
    "## Part 1: Type Conversions (5 points)\n",
    "\n",
    "1. Convert 'enrollment_date' to datetime using the `transform_types()` utility\n",
    "2. Convert categorical columns ('site', 'intervention_group', 'sex') to category dtype\n",
    "3. Ensure all numeric columns are proper numeric types\n",
    "4. Display the updated dtypes"
   ]
  },
  {
   "cell_type": "code",
   "execution_count": 2,
   "metadata": {
    "execution": {
     "iopub.execute_input": "2025-10-29T15:48:13.108461Z",
     "iopub.status.busy": "2025-10-29T15:48:13.108093Z",
     "iopub.status.idle": "2025-10-29T15:48:13.131462Z",
     "shell.execute_reply": "2025-10-29T15:48:13.129424Z"
    }
   },
   "outputs": [
    {
     "name": "stdout",
     "output_type": "stream",
     "text": [
      "patient_id                    object\n",
      "age                          float64\n",
      "sex                         category\n",
      "bmi                          float64\n",
      "enrollment_date       datetime64[ns]\n",
      "systolic_bp                  float64\n",
      "diastolic_bp                 float64\n",
      "cholesterol_total            float64\n",
      "cholesterol_hdl              float64\n",
      "cholesterol_ldl              float64\n",
      "glucose_fasting              float64\n",
      "site                        category\n",
      "intervention_group          category\n",
      "follow_up_months               int64\n",
      "adverse_events                 int64\n",
      "outcome_cvd                   object\n",
      "adherence_pct                float64\n",
      "dropout                       object\n",
      "dtype: object\n"
     ]
    }
   ],
   "source": [
    "# Type conversions\n",
    "# 1. Use transform_types() to convert enrollment_date to datetime\n",
    "# 2. Convert categorical columns ('site', 'intervention_group', 'sex') to category dtype\n",
    "# 3. Ensure all numeric columns are proper numeric types\n",
    "df = transform_types(df, {'enrollment_date': 'datetime', 'site': 'category', 'intervention_group': 'category', 'sex': 'category'})\n",
    "\n",
    "# 4. Display the updated dtypes using df.dtypes\n",
    "print(df.dtypes)\n"
   ]
  },
  {
   "cell_type": "markdown",
   "metadata": {},
   "source": [
    "## Part 2: Feature Engineering (8 points)\n",
    "\n",
    "Create these new calculated columns:\n",
    "\n",
    "1. `cholesterol_ratio` = cholesterol_ldl / cholesterol_hdl\n",
    "2. `bp_category` = categorize systolic BP:\n",
    "   - 'Normal': < 120\n",
    "   - 'Elevated': 120-129\n",
    "   - 'High': >= 130\n",
    "3. `age_group` using `create_bins()` utility:\n",
    "   - Bins: [0, 40, 55, 70, 100]\n",
    "   - Labels: ['<40', '40-54', '55-69', '70+']\n",
    "4. `bmi_category` using standard BMI categories:\n",
    "   - Underweight: <18.5\n",
    "   - Normal: 18.5-24.9\n",
    "   - Overweight: 25-29.9\n",
    "   - Obese: >=30"
   ]
  },
  {
   "cell_type": "code",
   "execution_count": 3,
   "metadata": {
    "execution": {
     "iopub.execute_input": "2025-10-29T15:48:13.135179Z",
     "iopub.status.busy": "2025-10-29T15:48:13.134855Z",
     "iopub.status.idle": "2025-10-29T15:48:13.145839Z",
     "shell.execute_reply": "2025-10-29T15:48:13.144369Z"
    }
   },
   "outputs": [
    {
     "name": "stdout",
     "output_type": "stream",
     "text": [
      "   cholesterol_ldl  cholesterol_hdl  cholesterol_ratio\n",
      "0             41.0             55.0           0.745455\n",
      "1            107.0             58.0           1.844828\n",
      "2             82.0             56.0           1.464286\n",
      "3            104.0             56.0           1.857143\n",
      "4             75.0             78.0           0.961538\n"
     ]
    }
   ],
   "source": [
    "# Create cholesterol ratio\n",
    "df['cholesterol_ratio'] = df['cholesterol_ldl'] / df['cholesterol_hdl']\n",
    "print(df[['cholesterol_ldl', 'cholesterol_hdl', 'cholesterol_ratio']].head())"
   ]
  },
  {
   "cell_type": "code",
   "execution_count": 4,
   "metadata": {
    "execution": {
     "iopub.execute_input": "2025-10-29T15:48:13.148848Z",
     "iopub.status.busy": "2025-10-29T15:48:13.148527Z",
     "iopub.status.idle": "2025-10-29T15:48:13.162441Z",
     "shell.execute_reply": "2025-10-29T15:48:13.160693Z"
    }
   },
   "outputs": [
    {
     "name": "stdout",
     "output_type": "stream",
     "text": [
      "   systolic_bp bp_category\n",
      "0        123.0    Elevated\n",
      "1        139.0        High\n",
      "2        123.0    Elevated\n",
      "3        116.0      Normal\n",
      "4         97.0      Normal\n"
     ]
    }
   ],
   "source": [
    "# Categorize blood pressure\n",
    "# Define bins and labels\n",
    "bins = [0, 120, 130, np.inf]  # 0-119, 120-129, 130+\n",
    "labels = ['Normal', 'Elevated', 'High']\n",
    "\n",
    "df = create_bins(df, column='systolic_bp', bins=bins, labels=labels, new_column='bp_category')\n",
    "print(df[['systolic_bp', 'bp_category']].head())"
   ]
  },
  {
   "cell_type": "markdown",
   "metadata": {},
   "source": [
    "**Note:** The `create_bins()` function has an optional `new_column` parameter. If you don't specify it, the new column will be named `{original_column}_binned`. You can use `new_column='age_group'` to give it a custom name.\n"
   ]
  },
  {
   "cell_type": "code",
   "execution_count": 5,
   "metadata": {
    "execution": {
     "iopub.execute_input": "2025-10-29T15:48:13.166217Z",
     "iopub.status.busy": "2025-10-29T15:48:13.165882Z",
     "iopub.status.idle": "2025-10-29T15:48:13.177341Z",
     "shell.execute_reply": "2025-10-29T15:48:13.175748Z"
    }
   },
   "outputs": [
    {
     "name": "stdout",
     "output_type": "stream",
     "text": [
      "    age age_group\n",
      "0  80.0       70+\n",
      "1  80.0       70+\n",
      "2  82.0       70+\n",
      "3  95.0       70+\n",
      "4  95.0       70+\n"
     ]
    }
   ],
   "source": [
    "# Create age groups\n",
    "# `age_group`\n",
    "bins = [0, 40, 55, 70, np.inf]\n",
    "labels = ['<40', '40-54', '55-69', '70+']\n",
    "\n",
    "df = create_bins(df, column='age', bins=bins, labels=labels, new_column='age_group')\n",
    "print(df[['age', 'age_group']].head())"
   ]
  },
  {
   "cell_type": "code",
   "execution_count": 6,
   "metadata": {
    "execution": {
     "iopub.execute_input": "2025-10-29T15:48:13.181410Z",
     "iopub.status.busy": "2025-10-29T15:48:13.180969Z",
     "iopub.status.idle": "2025-10-29T15:48:13.191806Z",
     "shell.execute_reply": "2025-10-29T15:48:13.190246Z"
    }
   },
   "outputs": [
    {
     "name": "stdout",
     "output_type": "stream",
     "text": [
      "    bmi bmi_category\n",
      "0  29.3   Overweight\n",
      "1  26.2   Overweight\n",
      "2  26.2   Overweight\n",
      "3  25.4   Overweight\n",
      "4  26.2   Overweight\n"
     ]
    }
   ],
   "source": [
    "# Create BMI categories\n",
    "# `bmi_category`\n",
    "bins = [0, 18.5, 25, 30, np.inf]\n",
    "labels = ['Underweight', 'Normal', 'Overweight', 'Obese']\n",
    "\n",
    "df = create_bins(df, column='bmi', bins=bins, labels=labels, new_column='bmi_category')\n",
    "print(df[['bmi', 'bmi_category']].head())"
   ]
  },
  {
   "cell_type": "markdown",
   "metadata": {},
   "source": [
    "## Part 3: String Cleaning (2 points)\n",
    "\n",
    "If there are any string columns that need cleaning:\n",
    "1. Convert to lowercase\n",
    "2. Strip whitespace\n",
    "3. Replace any placeholder values"
   ]
  },
  {
   "cell_type": "code",
   "execution_count": 7,
   "metadata": {
    "execution": {
     "iopub.execute_input": "2025-10-29T15:48:13.194950Z",
     "iopub.status.busy": "2025-10-29T15:48:13.194618Z",
     "iopub.status.idle": "2025-10-29T15:48:13.435637Z",
     "shell.execute_reply": "2025-10-29T15:48:13.433667Z"
    }
   },
   "outputs": [
    {
     "name": "stdout",
     "output_type": "stream",
     "text": [
      "Normalized site names: ['site b' 'site a' 'site c' 'site d' 'site e']\n"
     ]
    },
    {
     "name": "stdout",
     "output_type": "stream",
     "text": [
      "intervention_group\n",
      "treatment b    3342\n",
      "control        3337\n",
      "treatment a    3321\n",
      "Name: count, dtype: int64\n"
     ]
    }
   ],
   "source": [
    "# TODO: String cleaning\n",
    "\n",
    "# Clean up \"site\" column\n",
    "df['site'] = (\n",
    "    df['site'].astype(str)\n",
    "    .str.replace('_', ' ', regex=False)\n",
    "    .str.replace(r'\\s+', ' ', regex=True)\n",
    "    .str.strip()\n",
    "    .str.lower()\n",
    ")\n",
    "print('Normalized site names:', df['site'].unique())\n",
    "\n",
    "# Clean up \"intervention_group\" column\n",
    "df['intervention_group'] = (\n",
    "    df['intervention_group'].astype(str)\n",
    "    .str.replace('_', ' ', regex=False)\n",
    "    .str.replace(r'\\s+', ' ', regex=True)\n",
    "    .str.strip()\n",
    "    .str.lower()\n",
    ")\n",
    "\n",
    "# Mapping for intervention_group variants\n",
    "mapping = {\n",
    "    'contrl': 'control',\n",
    "    'control': 'control',\n",
    "    'treatmenta': 'treatment a',\n",
    "    'treatmen a': 'treatment a',\n",
    "    'treatment a': 'treatment a',\n",
    "    'treatment b': 'treatment b',\n",
    "}\n",
    "# Apply mapping\n",
    "df['intervention_group'] = df['intervention_group'].replace(mapping)\n",
    "\n",
    "print(df['intervention_group'].value_counts())\n",
    "\n",
    "df.to_csv('output/q6_cleaned_data.csv', index=False)"
   ]
  },
  {
   "cell_type": "markdown",
   "metadata": {},
   "source": [
    "## Part 4: One-Hot Encoding (5 points)\n",
    "\n",
    "Create dummy variables for categorical columns:\n",
    "1. One-hot encode 'intervention_group' using `pd.get_dummies()`\n",
    "2. One-hot encode 'site'\n",
    "3. Drop the original categorical columns\n",
    "4. Show the new shape and column names"
   ]
  },
  {
   "cell_type": "code",
   "execution_count": 8,
   "metadata": {
    "execution": {
     "iopub.execute_input": "2025-10-29T15:48:13.438729Z",
     "iopub.status.busy": "2025-10-29T15:48:13.438429Z",
     "iopub.status.idle": "2025-10-29T15:48:13.468127Z",
     "shell.execute_reply": "2025-10-29T15:48:13.466031Z"
    }
   },
   "outputs": [
    {
     "name": "stdout",
     "output_type": "stream",
     "text": [
      "Index(['patient_id', 'age', 'sex', 'bmi', 'enrollment_date', 'systolic_bp',\n",
      "       'diastolic_bp', 'cholesterol_total', 'cholesterol_hdl',\n",
      "       'cholesterol_ldl', 'glucose_fasting', 'follow_up_months',\n",
      "       'adverse_events', 'outcome_cvd', 'adherence_pct', 'dropout',\n",
      "       'cholesterol_ratio', 'bp_category', 'age_group', 'bmi_category',\n",
      "       'intervention_group_control', 'intervention_group_treatment a',\n",
      "       'intervention_group_treatment b', 'site_site a', 'site_site b',\n",
      "       'site_site c', 'site_site d', 'site_site e'],\n",
      "      dtype='object')\n"
     ]
    },
    {
     "name": "stdout",
     "output_type": "stream",
     "text": [
      "       intervention_group_control intervention_group_treatment a  \\\n",
      "count                       10000                          10000   \n",
      "unique                          2                              2   \n",
      "top                         False                          False   \n",
      "freq                         6663                           6679   \n",
      "\n",
      "       intervention_group_treatment b site_site a site_site b site_site c  \\\n",
      "count                           10000       10000       10000       10000   \n",
      "unique                              2           2           2           2   \n",
      "top                             False       False       False       False   \n",
      "freq                             6658        7044        7547        7927   \n",
      "\n",
      "       site_site d site_site e  \n",
      "count        10000       10000  \n",
      "unique           2           2  \n",
      "top          False       False  \n",
      "freq          8499        8983  \n"
     ]
    }
   ],
   "source": [
    "# TODO: One-hot encoding\n",
    "dummies = pd.get_dummies(df, columns=['intervention_group', 'site'])\n",
    "print(dummies.columns)\n",
    "\n",
    "new_columns = ['intervention_group_control', 'intervention_group_treatment a',\n",
    "       'intervention_group_treatment b', 'site_site a', 'site_site b',\n",
    "       'site_site c', 'site_site d', 'site_site e']\n",
    "print(dummies[new_columns].describe())\n"
   ]
  },
  {
   "cell_type": "markdown",
   "metadata": {},
   "source": [
    "## Part 5: Save Transformed Data\n",
    "\n",
    "Save the fully transformed dataset to `output/q6_transformed_data.csv`"
   ]
  },
  {
   "cell_type": "code",
   "execution_count": 9,
   "metadata": {
    "execution": {
     "iopub.execute_input": "2025-10-29T15:48:13.472064Z",
     "iopub.status.busy": "2025-10-29T15:48:13.471730Z",
     "iopub.status.idle": "2025-10-29T15:48:13.657487Z",
     "shell.execute_reply": "2025-10-29T15:48:13.655857Z"
    }
   },
   "outputs": [],
   "source": [
    "# TODO: Save transformed data\n",
    "dummies.to_csv('output/q6_transformed_data.csv', index=False)\n"
   ]
  }
 ],
 "metadata": {
  "kernelspec": {
   "display_name": ".venv (3.13.7)",
   "language": "python",
   "name": "python3"
  },
  "language_info": {
   "codemirror_mode": {
    "name": "ipython",
    "version": 3
   },
   "file_extension": ".py",
   "mimetype": "text/x-python",
   "name": "python",
   "nbconvert_exporter": "python",
   "pygments_lexer": "ipython3",
   "version": "3.13.7"
  }
 },
 "nbformat": 4,
 "nbformat_minor": 2
}
