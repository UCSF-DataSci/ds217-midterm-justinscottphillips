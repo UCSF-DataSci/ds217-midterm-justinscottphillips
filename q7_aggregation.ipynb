{
 "cells": [
  {
   "cell_type": "markdown",
   "metadata": {},
   "source": [
    "# Assignment 5, Question 7: Group Operations & Final Analysis\n",
    "\n",
    "**Points: 15**\n",
    "\n",
    "Perform grouped analysis and create summary reports."
   ]
  },
  {
   "cell_type": "markdown",
   "metadata": {},
   "source": [
    "## Setup"
   ]
  },
  {
   "cell_type": "code",
   "execution_count": 4,
   "metadata": {},
   "outputs": [
    {
     "name": "stdout",
     "output_type": "stream",
     "text": [
      "Loaded 10000 patients\n"
     ]
    }
   ],
   "source": [
    "import pandas as pd\n",
    "import numpy as np\n",
    "import matplotlib.pyplot as plt\n",
    "\n",
    "# Import utilities\n",
    "from q3_data_utils import load_data, summarize_by_group\n",
    "\n",
    "#df = load_data('data/clinical_trial_raw.csv')\n",
    "df = load_data('output/q6_cleaned_data.csv')\n",
    "print(f\"Loaded {len(df)} patients\")\n",
    "\n",
    "# Prewritten visualization function for grouped analysis\n",
    "def plot_group_comparison(data, x_col, y_col, title):\n",
    "    \"\"\"\n",
    "    Create a bar chart comparing groups.\n",
    "    \n",
    "    Args:\n",
    "        data: DataFrame with grouped data\n",
    "        x_col: Column name for x-axis (groups)\n",
    "        y_col: Column name for y-axis (values)\n",
    "        title: Chart title\n",
    "    \"\"\"\n",
    "    plt.figure(figsize=(10, 6))\n",
    "    data.plot(x=x_col, y=y_col, kind='bar')\n",
    "    plt.title(title)\n",
    "    plt.xticks(rotation=45)\n",
    "    plt.tight_layout()\n",
    "    plt.show()"
   ]
  },
  {
   "cell_type": "markdown",
   "metadata": {},
   "source": [
    "## Part 1: Basic Groupby (5 points)\n",
    "\n",
    "1. Group by 'site' and calculate mean age, BMI, and blood pressure\n",
    "2. Group by 'intervention_group' and count patients\n",
    "3. Use the `summarize_by_group()` utility to get overall statistics by site"
   ]
  },
  {
   "cell_type": "code",
   "execution_count": 7,
   "metadata": {},
   "outputs": [
    {
     "name": "stdout",
     "output_type": "stream",
     "text": [
      "              age        bmi  cholesterol_ldl\n",
      "site                                         \n",
      "site a  81.208390  26.261570        85.830514\n",
      "site b  80.453322  26.137668        85.296779\n",
      "site c  80.756392  26.335215        85.801254\n",
      "site d  80.759494  26.323917        84.728181\n",
      "site e  80.427729  26.327237        86.582104\n"
     ]
    }
   ],
   "source": [
    "# TODO: Group by site\n",
    "grouped_by_site = summarize_by_group(df, 'site', {'age': 'mean', 'bmi': 'mean', 'cholesterol_ldl': 'mean'})\n",
    "print(grouped_by_site)"
   ]
  },
  {
   "cell_type": "code",
   "execution_count": 8,
   "metadata": {},
   "outputs": [
    {
     "name": "stdout",
     "output_type": "stream",
     "text": [
      "                    patient_id\n",
      "intervention_group            \n",
      "control                   3337\n",
      "treatment a               3321\n",
      "treatment b               3342\n"
     ]
    }
   ],
   "source": [
    "# TODO: Count by intervention group\n",
    "grouped_by_intervention = summarize_by_group(df, 'intervention_group', {'patient_id': 'count'})\n",
    "print(grouped_by_intervention)"
   ]
  },
  {
   "cell_type": "markdown",
   "metadata": {},
   "source": [
    "**Note:** The `summarize_by_group()` function has an optional `agg_dict` parameter for custom aggregations. If you don't specify it, it will use `.describe()` on numeric columns. You can use `agg_dict={'age': ['mean', 'std'], 'bmi': 'mean'}` for custom aggregations.\n"
   ]
  },
  {
   "cell_type": "code",
   "execution_count": 9,
   "metadata": {},
   "outputs": [
    {
     "name": "stdout",
     "output_type": "stream",
     "text": [
      "              age                         bmi                 systolic_bp  \\\n",
      "             mean        std count       mean       std count        mean   \n",
      "site                                                                        \n",
      "site a  81.208390  13.569270  2956  26.261570  3.737312  2956  117.341340   \n",
      "site b  80.453322  13.313755  2453  26.137668  3.630759  2453  117.125561   \n",
      "site c  80.756392  13.225545  2073  26.335215  3.703805  2073  117.937771   \n",
      "site d  80.759494  13.357649  1501  26.323917  3.661309  1501  117.892738   \n",
      "site e  80.427729  13.600708  1017  26.327237  3.629155  1017  117.481809   \n",
      "\n",
      "                        diastolic_bp  ... follow_up_months adverse_events  \\\n",
      "              std count         mean  ...            count           mean   \n",
      "site                                  ...                                   \n",
      "site a  13.849256  2956    73.529432  ...             2956       0.141069   \n",
      "site b  13.264675  2453    73.298002  ...             2453       0.149613   \n",
      "site c  13.682327  2073    73.648336  ...             2073       0.137482   \n",
      "site d  13.527299  1501    73.604930  ...             1501       0.143238   \n",
      "site e  14.382497  1017    73.720747  ...             1017       0.168142   \n",
      "\n",
      "                       adherence_pct                  cholesterol_ratio  \\\n",
      "             std count          mean        std count              mean   \n",
      "site                                                                      \n",
      "site a  0.377979  2956     61.667118  17.612836  2956          1.494966   \n",
      "site b  0.403943  2453     61.048104  17.446356  2453          1.479700   \n",
      "site c  0.392877  2073     61.071877  16.958818  2073          1.504100   \n",
      "site d  0.377892  1501     60.027315  17.641388  1501          1.460657   \n",
      "site e  0.434995  1017     58.451327  18.276740  1017          1.531123   \n",
      "\n",
      "                        \n",
      "             std count  \n",
      "site                    \n",
      "site a  0.714035  2956  \n",
      "site b  0.687122  2453  \n",
      "site c  0.766308  2073  \n",
      "site d  0.682616  1501  \n",
      "site e  0.748075  1017  \n",
      "\n",
      "[5 rows x 36 columns]\n"
     ]
    }
   ],
   "source": [
    "# TODO: Use summarize_by_group utility\n",
    "site_statistics = summarize_by_group(df, 'site')\n",
    "print(site_statistics)"
   ]
  },
  {
   "cell_type": "markdown",
   "metadata": {},
   "source": [
    "## Part 2: Multiple Aggregations (5 points)\n",
    "\n",
    "Group by 'site' and apply multiple aggregations:\n",
    "- age: mean, std, min, max\n",
    "- bmi: mean, std\n",
    "- systolic_bp: mean, median\n",
    "\n",
    "Display the results in a well-formatted table."
   ]
  },
  {
   "cell_type": "code",
   "execution_count": 10,
   "metadata": {},
   "outputs": [
    {
     "name": "stdout",
     "output_type": "stream",
     "text": [
      "              age                                bmi           systolic_bp  \\\n",
      "             mean        std   min    max       mean       std        mean   \n",
      "site                                                                         \n",
      "site a  81.208390  13.569270  44.0  100.0  26.261570  3.737312  117.341340   \n",
      "site b  80.453322  13.313755  45.0  100.0  26.137668  3.630759  117.125561   \n",
      "site c  80.756392  13.225545  43.0  100.0  26.335215  3.703805  117.937771   \n",
      "site d  80.759494  13.357649  45.0  100.0  26.323917  3.661309  117.892738   \n",
      "site e  80.427729  13.600708  44.0  100.0  26.327237  3.629155  117.481809   \n",
      "\n",
      "               \n",
      "       median  \n",
      "site           \n",
      "site a  117.0  \n",
      "site b  117.0  \n",
      "site c  117.0  \n",
      "site d  117.0  \n",
      "site e  117.0  \n"
     ]
    }
   ],
   "source": [
    "# TODO: Multiple aggregations\n",
    "aggregations = {\n",
    "    'age': ['mean', 'std', 'min', 'max'],\n",
    "    'bmi': ['mean', 'std'],\n",
    "    'systolic_bp': ['mean', 'median']\n",
    "}\n",
    "site_multi_agg = summarize_by_group(df, 'site', aggregations)\n",
    "print(site_multi_agg)"
   ]
  },
  {
   "cell_type": "markdown",
   "metadata": {},
   "source": [
    "## Part 3: Comparative Analysis (5 points)\n",
    "\n",
    "Compare intervention groups:\n",
    "1. Calculate mean outcome_cvd rate by intervention_group\n",
    "2. Calculate mean adherence_pct by intervention_group\n",
    "3. Create a cross-tabulation of intervention_group vs dropout status\n",
    "4. Visualize the comparison with a bar plot"
   ]
  },
  {
   "cell_type": "code",
   "execution_count": null,
   "metadata": {},
   "outputs": [
    {
     "name": "stdout",
     "output_type": "stream",
     "text": [
      "                    outcome_cvd_num  adherence_pct\n",
      "intervention_group                                \n",
      "control                    0.336530      60.830686\n",
      "treatment a                0.319482      60.474255\n",
      "treatment b                0.333633      61.149013\n"
     ]
    }
   ],
   "source": [
    "# TODO: Intervention group comparisons\n",
    "# clean up \"outcome_cvd\" column\n",
    "df['outcome_cvd'] = (\n",
    "    df['outcome_cvd'].astype(str)\n",
    "    .str.replace(r'\\s+', ' ', regex=True)\n",
    "    .str.strip()\n",
    "    .str.lower()\n",
    ")\n",
    "\n",
    "df['outcome_cvd_num'] = df['outcome_cvd'].map({'yes': 1, 'no': 0})\n",
    "#print(df[['intervention_group', 'outcome_cvd', 'outcome_cvd_num']])\n",
    "\n",
    "intervention_comparison = summarize_by_group(df, 'intervention_group', {\n",
    "    'outcome_cvd_num': 'mean',\n",
    "    'adherence_pct': 'mean'\n",
    "})\n",
    "print(intervention_comparison)\n",
    "\n",
    "\n"
   ]
  },
  {
   "cell_type": "code",
   "execution_count": 27,
   "metadata": {},
   "outputs": [
    {
     "data": {
      "text/plain": [
       "<Figure size 1000x600 with 0 Axes>"
      ]
     },
     "metadata": {},
     "output_type": "display_data"
    },
    {
     "data": {
      "image/png": "[encoded data removed]",
      "text/plain": [
       "<Figure size 640x480 with 1 Axes>"
      ]
     },
     "metadata": {},
     "output_type": "display_data"
    }
   ],
   "source": [
    "# TODO: Visualization\n",
    "plot_group_comparison(intervention_comparison, 'outcome_cvd_num', 'adherence_pct', 'Mean CVD by Intervention Group')"
   ]
  },
  {
   "cell_type": "markdown",
   "metadata": {},
   "source": [
    "## Part 4: Final Report\n",
    "\n",
    "Create and save:\n",
    "1. Summary statistics by site → `output/q7_site_summary.csv`\n",
    "2. Intervention group comparison → `output/q7_intervention_comparison.csv`\n",
    "3. Text report with key findings → `output/q7_analysis_report.txt`"
   ]
  },
  {
   "cell_type": "code",
   "execution_count": null,
   "metadata": {},
   "outputs": [],
   "source": [
    "# TODO: Save summary outputs\n",
    "site_statistics.to_csv('output/q7_site_statistics.csv', index=False)\n",
    "intervention_comparison.to_csv('output/q7_intervention_comparison.csv', index=False)\n"
   ]
  },
  {
   "cell_type": "markdown",
   "metadata": {},
   "source": [
    "## Summary\n",
    "\n",
    "What are the 3 most important findings from your analysis?"
   ]
  },
  {
   "cell_type": "markdown",
   "metadata": {},
   "source": [
    "**Key Findings:**\n",
    "\n",
    "1. Demographics across sites were highly consistent. Mean age was around 80–81 years and mean BMI about 26, with only minor variation between sites.\n",
    "2. Blood pressure and cholesterol varibles were stable across sites, with average systolic BP near 117 mmHg and LDL cholesterol around 85 mg/dL.\n",
    "3. Intervention outcomes showed small differences. Treatment group adherence was slightly higher in Treatment B (61.1%) compared with Control (60.8%) and Treatment A (60.5%), and the incidence of cardiovascular outcomes was marginally lower in Treatment A (32.0%) than in the other groups."
   ]
  }
 ],
 "metadata": {
  "kernelspec": {
   "display_name": ".venv (3.13.7)",
   "language": "python",
   "name": "python3"
  },
  "language_info": {
   "codemirror_mode": {
    "name": "ipython",
    "version": 3
   },
   "file_extension": ".py",
   "mimetype": "text/x-python",
   "name": "python",
   "nbconvert_exporter": "python",
   "pygments_lexer": "ipython3",
   "version": "3.13.7"
  }
 },
 "nbformat": 4,
 "nbformat_minor": 2
}
